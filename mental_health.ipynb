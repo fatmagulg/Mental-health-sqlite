{
 "cells": [
  {
   "cell_type": "markdown",
   "metadata": {},
   "source": [
    "# Mental Health Analysis "
   ]
  },
  {
   "cell_type": "markdown",
   "metadata": {},
   "source": [
    "# ☑️ Setting up the database connection\n",
    "\n",
    "Run the following code cell to import `pandas` and `sqlite3` libraries and create the connection to the `mental_health.sqlite` database.\n",
    "\n",
    "**Do not change this code!** The `conn` variable will be used throughout the notebook to query the database."
   ]
  },
  {
   "cell_type": "code",
   "execution_count": 1,
   "metadata": {},
   "outputs": [],
   "source": [
    "import pandas as pd\n",
    "import sqlite3\n",
    "\n",
    "conn = sqlite3.connect('/Users/fatmagulgok/Desktop/spark/mental_health/mental_health.sqlite')"
   ]
  },
  {
   "cell_type": "markdown",
   "metadata": {},
   "source": [
    "# ☑️ Introduction to the Mental Health dataset \n",
    "\n"
   ]
  },
  {
   "cell_type": "markdown",
   "metadata": {},
   "source": [
    "The database contains three tables: `Survey`, `Question`, and `Answer`.\n",
    "\n",
    "  1. **Survey**, containing columns:\n",
    "    - `PRIMARY KEY INT SurveyID`\n",
    "    - `TEXT Description`\n",
    "\n",
    "\n",
    "  2. **Question**, containing columns: \n",
    "    - `PRIMARY KEY QuestionID`\n",
    "    - `TEXT QuestionText`\n",
    "\n",
    "\n",
    "  3. **Answer**, containing columns:\n",
    "    - `PRIMARY/FOREIGN KEY SurveyID`\n",
    "    - `PRIMARY KEY UserID`\n",
    "    - `PRIMARY/FOREIGN KEY QuestionID`\n",
    "    - `TEXT AnswerText`\n",
    "\n",
    "\n",
    "`SuveyID` column contains the survey year i.e. 2014, 2016, 2017, 2018, 2019 and the same question can be used for multiple surveys. \n",
    "\n",
    "Some questions can contain multiple answers, thus the same user can appear more than once for any given QuestionID.\n",
    "\n",
    "Run the following code cell to show all the tables in the `mental_health.sqlite` database:"
   ]
  },
  {
   "cell_type": "code",
   "execution_count": 2,
   "metadata": {},
   "outputs": [
    {
     "data": {
      "text/html": [
       "<div>\n",
       "<style scoped>\n",
       "    .dataframe tbody tr th:only-of-type {\n",
       "        vertical-align: middle;\n",
       "    }\n",
       "\n",
       "    .dataframe tbody tr th {\n",
       "        vertical-align: top;\n",
       "    }\n",
       "\n",
       "    .dataframe thead th {\n",
       "        text-align: right;\n",
       "    }\n",
       "</style>\n",
       "<table border=\"1\" class=\"dataframe\">\n",
       "  <thead>\n",
       "    <tr style=\"text-align: right;\">\n",
       "      <th></th>\n",
       "      <th>name</th>\n",
       "    </tr>\n",
       "  </thead>\n",
       "  <tbody>\n",
       "    <tr>\n",
       "      <th>0</th>\n",
       "      <td>Answer</td>\n",
       "    </tr>\n",
       "    <tr>\n",
       "      <th>1</th>\n",
       "      <td>Question</td>\n",
       "    </tr>\n",
       "    <tr>\n",
       "      <th>2</th>\n",
       "      <td>Survey</td>\n",
       "    </tr>\n",
       "  </tbody>\n",
       "</table>\n",
       "</div>"
      ],
      "text/plain": [
       "       name\n",
       "0    Answer\n",
       "1  Question\n",
       "2    Survey"
      ]
     },
     "execution_count": 2,
     "metadata": {},
     "output_type": "execute_result"
    }
   ],
   "source": [
    "query = \"\"\"\n",
    "SELECT name \n",
    "FROM sqlite_master \n",
    "WHERE type='table';\n",
    "\"\"\"\n",
    "df = pd.read_sql_query(query, conn)\n",
    "df"
   ]
  },
  {
   "cell_type": "markdown",
   "metadata": {},
   "source": [
    "Referencing these tables and their respective columns will be useful in answering the following questions. Run the following code to show column names and data types within each table:"
   ]
  },
  {
   "cell_type": "code",
   "execution_count": 3,
   "metadata": {},
   "outputs": [
    {
     "name": "stdout",
     "output_type": "stream",
     "text": [
      "         name            type\n",
      "0  AnswerText  VARCHAR(10000)\n",
      "1    SurveyID         INTEGER\n",
      "2      UserID         INTEGER\n",
      "3  QuestionID         INTEGER\n",
      "========================================\n",
      "           name           type\n",
      "0  questiontext  VARCHAR(1000)\n",
      "1    questionid        INTEGER\n",
      "========================================\n",
      "          name          type\n",
      "0     SurveyID       INTEGER\n",
      "1  Description  VARCHAR(255)\n",
      "========================================\n"
     ]
    }
   ],
   "source": [
    "for table in ['Answer','Question','Survey']:\n",
    "    \n",
    "    query = f\"\"\"\n",
    "    PRAGMA table_info({table});\n",
    "    \"\"\"\n",
    "    df = pd.read_sql_query(query, conn)\n",
    "    print(df[['name','type']])\n",
    "    print('='*40)"
   ]
  },
  {
   "cell_type": "markdown",
   "metadata": {},
   "source": [
    "# ☑️ Queries"
   ]
  },
  {
   "cell_type": "markdown",
   "metadata": {},
   "source": [
    "**1. Write a SQL query that finds all the records within the `Question` table where the `questionid` is equal to 2 or 3. The columns should be called `Question` and `ID`**\n",
    "\n",
    "```"
   ]
  },
  {
   "cell_type": "code",
   "execution_count": 4,
   "metadata": {},
   "outputs": [
    {
     "data": {
      "text/html": [
       "<div>\n",
       "<style scoped>\n",
       "    .dataframe tbody tr th:only-of-type {\n",
       "        vertical-align: middle;\n",
       "    }\n",
       "\n",
       "    .dataframe tbody tr th {\n",
       "        vertical-align: top;\n",
       "    }\n",
       "\n",
       "    .dataframe thead th {\n",
       "        text-align: right;\n",
       "    }\n",
       "</style>\n",
       "<table border=\"1\" class=\"dataframe\">\n",
       "  <thead>\n",
       "    <tr style=\"text-align: right;\">\n",
       "      <th></th>\n",
       "      <th>Question</th>\n",
       "      <th>ID</th>\n",
       "    </tr>\n",
       "  </thead>\n",
       "  <tbody>\n",
       "    <tr>\n",
       "      <th>0</th>\n",
       "      <td>What is your gender?</td>\n",
       "      <td>2</td>\n",
       "    </tr>\n",
       "    <tr>\n",
       "      <th>1</th>\n",
       "      <td>What country do you live in?</td>\n",
       "      <td>3</td>\n",
       "    </tr>\n",
       "  </tbody>\n",
       "</table>\n",
       "</div>"
      ],
      "text/plain": [
       "                       Question  ID\n",
       "0          What is your gender?   2\n",
       "1  What country do you live in?   3"
      ]
     },
     "execution_count": 4,
     "metadata": {},
     "output_type": "execute_result"
    }
   ],
   "source": [
    "#add your code below\n",
    "question_2_3_query = \"\"\"\n",
    "SELECT questiontext AS Question, questionid AS ID\n",
    "FROM Question\n",
    "WHERE questionid = 2 OR questionid = 3\n",
    ";\n",
    "\"\"\"\n",
    "\n",
    "question_2_3_result = pd.read_sql(question_2_3_query, conn)\n",
    "question_2_3_result\n",
    "\n"
   ]
  },
  {
   "cell_type": "markdown",
   "metadata": {},
   "source": [
    "**2. Refer to the `Survey` table. Write a SQL query to retrieve the surveys from 2014 and 2017. The columns should be called `Year` and `Year_Description`**\n",
    "\n",
    "```"
   ]
  },
  {
   "cell_type": "code",
   "execution_count": 5,
   "metadata": {},
   "outputs": [
    {
     "data": {
      "text/html": [
       "<div>\n",
       "<style scoped>\n",
       "    .dataframe tbody tr th:only-of-type {\n",
       "        vertical-align: middle;\n",
       "    }\n",
       "\n",
       "    .dataframe tbody tr th {\n",
       "        vertical-align: top;\n",
       "    }\n",
       "\n",
       "    .dataframe thead th {\n",
       "        text-align: right;\n",
       "    }\n",
       "</style>\n",
       "<table border=\"1\" class=\"dataframe\">\n",
       "  <thead>\n",
       "    <tr style=\"text-align: right;\">\n",
       "      <th></th>\n",
       "      <th>Year</th>\n",
       "      <th>Year_Description</th>\n",
       "    </tr>\n",
       "  </thead>\n",
       "  <tbody>\n",
       "    <tr>\n",
       "      <th>0</th>\n",
       "      <td>2014</td>\n",
       "      <td>mental health survey for 2014</td>\n",
       "    </tr>\n",
       "    <tr>\n",
       "      <th>1</th>\n",
       "      <td>2017</td>\n",
       "      <td>mental health survey for 2017</td>\n",
       "    </tr>\n",
       "  </tbody>\n",
       "</table>\n",
       "</div>"
      ],
      "text/plain": [
       "   Year               Year_Description\n",
       "0  2014  mental health survey for 2014\n",
       "1  2017  mental health survey for 2017"
      ]
     },
     "execution_count": 5,
     "metadata": {},
     "output_type": "execute_result"
    }
   ],
   "source": [
    "#add your code below\n",
    "survey_years_query = \"\"\"\n",
    "SELECT SurveyID AS Year, Description AS Year_Description\n",
    "FROM Survey\n",
    "WHERE SurveyID IN (2014, 2017)\n",
    ";\n",
    "\"\"\"\n",
    "\n",
    "survey_years_result = pd.read_sql(survey_years_query, conn)\n",
    "survey_years_result"
   ]
  },
  {
   "cell_type": "markdown",
   "metadata": {},
   "source": [
    "**3. Refer to the `AnswerText` column in `Answer` table. Write a SQL query to find out how many answers in total have been given throughout the years. Your result should contain one column, called `answers_count`**\n",
    "\n",
    "```"
   ]
  },
  {
   "cell_type": "code",
   "execution_count": 6,
   "metadata": {},
   "outputs": [
    {
     "data": {
      "text/html": [
       "<div>\n",
       "<style scoped>\n",
       "    .dataframe tbody tr th:only-of-type {\n",
       "        vertical-align: middle;\n",
       "    }\n",
       "\n",
       "    .dataframe tbody tr th {\n",
       "        vertical-align: top;\n",
       "    }\n",
       "\n",
       "    .dataframe thead th {\n",
       "        text-align: right;\n",
       "    }\n",
       "</style>\n",
       "<table border=\"1\" class=\"dataframe\">\n",
       "  <thead>\n",
       "    <tr style=\"text-align: right;\">\n",
       "      <th></th>\n",
       "      <th>answers_count</th>\n",
       "    </tr>\n",
       "  </thead>\n",
       "  <tbody>\n",
       "    <tr>\n",
       "      <th>0</th>\n",
       "      <td>236898</td>\n",
       "    </tr>\n",
       "  </tbody>\n",
       "</table>\n",
       "</div>"
      ],
      "text/plain": [
       "   answers_count\n",
       "0         236898"
      ]
     },
     "execution_count": 6,
     "metadata": {},
     "output_type": "execute_result"
    }
   ],
   "source": [
    "#add your code below\n",
    "number_of_answers_query = \"\"\"\n",
    "SELECT COUNT(AnswerText) AS answers_count\n",
    "FROM Answer\n",
    ";\n",
    "\"\"\"\n",
    "\n",
    "number_of_answers_result = pd.read_sql(number_of_answers_query, conn)\n",
    "number_of_answers_result"
   ]
  },
  {
   "cell_type": "markdown",
   "metadata": {},
   "source": [
    "**4. Refer to the `AnswerText` column in `Answer` table. Write a SQL query to find out how many answers have been given in 2017 and 2019. Your result should contain one column, called `answers_count`**\n",
    "\n",
    "```"
   ]
  },
  {
   "cell_type": "code",
   "execution_count": 7,
   "metadata": {},
   "outputs": [
    {
     "data": {
      "text/html": [
       "<div>\n",
       "<style scoped>\n",
       "    .dataframe tbody tr th:only-of-type {\n",
       "        vertical-align: middle;\n",
       "    }\n",
       "\n",
       "    .dataframe tbody tr th {\n",
       "        vertical-align: top;\n",
       "    }\n",
       "\n",
       "    .dataframe thead th {\n",
       "        text-align: right;\n",
       "    }\n",
       "</style>\n",
       "<table border=\"1\" class=\"dataframe\">\n",
       "  <thead>\n",
       "    <tr style=\"text-align: right;\">\n",
       "      <th></th>\n",
       "      <th>answers_count</th>\n",
       "    </tr>\n",
       "  </thead>\n",
       "  <tbody>\n",
       "    <tr>\n",
       "      <th>0</th>\n",
       "      <td>84208</td>\n",
       "    </tr>\n",
       "  </tbody>\n",
       "</table>\n",
       "</div>"
      ],
      "text/plain": [
       "   answers_count\n",
       "0          84208"
      ]
     },
     "execution_count": 7,
     "metadata": {},
     "output_type": "execute_result"
    }
   ],
   "source": [
    "#add your code below\n",
    "number_of_answers_17_19_query = \"\"\"\n",
    "SELECT COUNT(AnswerText) AS answers_count\n",
    "FROM Answer\n",
    "WHERE SurveyID IN (2017, 2019)\n",
    ";\n",
    "\"\"\"\n",
    "\n",
    "number_of_answers_17_19_result = pd.read_sql(number_of_answers_17_19_query, conn)\n",
    "number_of_answers_17_19_result"
   ]
  },
  {
   "cell_type": "markdown",
   "metadata": {},
   "source": [
    "**5. Refer to the `AnswerText` column in `Answer` table. Write a SQL query to extract the first 100 answers for the year 2014. Your result should contain one column (the `AnswerText`)**\n",
    "\n",
    "```"
   ]
  },
  {
   "cell_type": "code",
   "execution_count": 8,
   "metadata": {
    "scrolled": false
   },
   "outputs": [
    {
     "data": {
      "text/html": [
       "<div>\n",
       "<style scoped>\n",
       "    .dataframe tbody tr th:only-of-type {\n",
       "        vertical-align: middle;\n",
       "    }\n",
       "\n",
       "    .dataframe tbody tr th {\n",
       "        vertical-align: top;\n",
       "    }\n",
       "\n",
       "    .dataframe thead th {\n",
       "        text-align: right;\n",
       "    }\n",
       "</style>\n",
       "<table border=\"1\" class=\"dataframe\">\n",
       "  <thead>\n",
       "    <tr style=\"text-align: right;\">\n",
       "      <th></th>\n",
       "      <th>AnswerText</th>\n",
       "    </tr>\n",
       "  </thead>\n",
       "  <tbody>\n",
       "    <tr>\n",
       "      <th>0</th>\n",
       "      <td>37</td>\n",
       "    </tr>\n",
       "    <tr>\n",
       "      <th>1</th>\n",
       "      <td>44</td>\n",
       "    </tr>\n",
       "    <tr>\n",
       "      <th>2</th>\n",
       "      <td>32</td>\n",
       "    </tr>\n",
       "    <tr>\n",
       "      <th>3</th>\n",
       "      <td>31</td>\n",
       "    </tr>\n",
       "    <tr>\n",
       "      <th>4</th>\n",
       "      <td>31</td>\n",
       "    </tr>\n",
       "    <tr>\n",
       "      <th>...</th>\n",
       "      <td>...</td>\n",
       "    </tr>\n",
       "    <tr>\n",
       "      <th>95</th>\n",
       "      <td>29</td>\n",
       "    </tr>\n",
       "    <tr>\n",
       "      <th>96</th>\n",
       "      <td>24</td>\n",
       "    </tr>\n",
       "    <tr>\n",
       "      <th>97</th>\n",
       "      <td>31</td>\n",
       "    </tr>\n",
       "    <tr>\n",
       "      <th>98</th>\n",
       "      <td>33</td>\n",
       "    </tr>\n",
       "    <tr>\n",
       "      <th>99</th>\n",
       "      <td>30</td>\n",
       "    </tr>\n",
       "  </tbody>\n",
       "</table>\n",
       "<p>100 rows × 1 columns</p>\n",
       "</div>"
      ],
      "text/plain": [
       "   AnswerText\n",
       "0          37\n",
       "1          44\n",
       "2          32\n",
       "3          31\n",
       "4          31\n",
       "..        ...\n",
       "95         29\n",
       "96         24\n",
       "97         31\n",
       "98         33\n",
       "99         30\n",
       "\n",
       "[100 rows x 1 columns]"
      ]
     },
     "execution_count": 8,
     "metadata": {},
     "output_type": "execute_result"
    }
   ],
   "source": [
    "#add your code below\n",
    "answer_2014_query = \"\"\"\n",
    "SELECT AnswerText\n",
    "FROM Answer\n",
    "WHERE SurveyID = 2014\n",
    "LIMIT 100\n",
    ";\n",
    "\"\"\"\n",
    "\n",
    "answer_2014_result = pd.read_sql(answer_2014_query, conn)\n",
    "answer_2014_result"
   ]
  },
  {
   "cell_type": "markdown",
   "metadata": {},
   "source": [
    "**6. Refer to the `Answer` table. For each year of the survey, how many questions have been asked? Return a table containing the survey year and the number of unique questions that have been asked for each year. Call the survey year column `year` and the second column `survey_answers`**\n",
    "\n",
    "```"
   ]
  },
  {
   "cell_type": "code",
   "execution_count": 9,
   "metadata": {},
   "outputs": [
    {
     "data": {
      "text/html": [
       "<div>\n",
       "<style scoped>\n",
       "    .dataframe tbody tr th:only-of-type {\n",
       "        vertical-align: middle;\n",
       "    }\n",
       "\n",
       "    .dataframe tbody tr th {\n",
       "        vertical-align: top;\n",
       "    }\n",
       "\n",
       "    .dataframe thead th {\n",
       "        text-align: right;\n",
       "    }\n",
       "</style>\n",
       "<table border=\"1\" class=\"dataframe\">\n",
       "  <thead>\n",
       "    <tr style=\"text-align: right;\">\n",
       "      <th></th>\n",
       "      <th>year</th>\n",
       "      <th>survey_answers</th>\n",
       "    </tr>\n",
       "  </thead>\n",
       "  <tbody>\n",
       "    <tr>\n",
       "      <th>0</th>\n",
       "      <td>2014</td>\n",
       "      <td>26</td>\n",
       "    </tr>\n",
       "    <tr>\n",
       "      <th>1</th>\n",
       "      <td>2016</td>\n",
       "      <td>60</td>\n",
       "    </tr>\n",
       "    <tr>\n",
       "      <th>2</th>\n",
       "      <td>2017</td>\n",
       "      <td>76</td>\n",
       "    </tr>\n",
       "    <tr>\n",
       "      <th>3</th>\n",
       "      <td>2018</td>\n",
       "      <td>76</td>\n",
       "    </tr>\n",
       "    <tr>\n",
       "      <th>4</th>\n",
       "      <td>2019</td>\n",
       "      <td>76</td>\n",
       "    </tr>\n",
       "  </tbody>\n",
       "</table>\n",
       "</div>"
      ],
      "text/plain": [
       "   year  survey_answers\n",
       "0  2014              26\n",
       "1  2016              60\n",
       "2  2017              76\n",
       "3  2018              76\n",
       "4  2019              76"
      ]
     },
     "execution_count": 9,
     "metadata": {},
     "output_type": "execute_result"
    }
   ],
   "source": [
    "#add your code below\n",
    "answer_per_survey_query = \"\"\"\n",
    "SELECT SurveyID AS year, COUNT(DISTINCT(QuestionID)) survey_answers\n",
    "FROM Answer\n",
    "GROUP BY SurveyID\n",
    ";\n",
    "\"\"\"\n",
    "\n",
    "answer_per_survey_result = pd.read_sql(answer_per_survey_query, conn)\n",
    "answer_per_survey_result"
   ]
  },
  {
   "cell_type": "markdown",
   "metadata": {},
   "source": [
    "**7. Refer to the `Answer` table. Select the maximum age of the participants for each survey year. Return a table containing the survey year and the maximum age of participants for that year. Your result should contain two columns: one called `year` and one called `max_age`**\n",
    "\n",
    "- Look at the Question table first to find which question asks participants about their age\n",
    "\n",
    "```"
   ]
  },
  {
   "cell_type": "code",
   "execution_count": null,
   "metadata": {},
   "outputs": [],
   "source": [
    "xquery = \"\"\"\n",
    "SELECT *\n",
    "FROM Question\n",
    "LIMIT 3\n",
    ";\n",
    "\"\"\"\n",
    "\n",
    "x = pd.read_sql(xquery, conn)\n",
    "x"
   ]
  },
  {
   "cell_type": "code",
   "execution_count": null,
   "metadata": {},
   "outputs": [],
   "source": [
    "#add your code below\n",
    "max_age_query = \"\"\"\n",
    "SELECT SurveyID AS year, MAX(CAST(AnswerText AS int)) AS max_age\n",
    "FROM Answer\n",
    "WHERE QuestionID = 1\n",
    "GROUP BY SurveyID\n",
    ";\n",
    "\"\"\"\n",
    "\n",
    "max_age_result = pd.read_sql(max_age_query, conn)\n",
    "max_age_result"
   ]
  },
  {
   "cell_type": "markdown",
   "metadata": {},
   "source": [
    "**8. Refer to the `Answer` table. Write a SQL query that finds out how many people always, never, or sometimes work remotely. Your result should have one column called `answer`, and one called `count`**\n",
    "\n",
    "- Have a look at the Question table first to find which question asks participants about how often they work remotely. Note that always, never, and sometimes are the three possible answers.\n",
    "\n",
    "```"
   ]
  },
  {
   "cell_type": "code",
   "execution_count": null,
   "metadata": {},
   "outputs": [],
   "source": [
    "xquery = \"\"\"\n",
    "SELECT *\n",
    "FROM Question\n",
    "WHERE questiontext LIKE '%remote%'\n",
    ";\n",
    "\"\"\"\n",
    "\n",
    "x = pd.read_sql(xquery, conn)\n",
    "x"
   ]
  },
  {
   "cell_type": "code",
   "execution_count": null,
   "metadata": {},
   "outputs": [],
   "source": [
    "xquery = \"\"\"\n",
    "SELECT DISTINCT(AnswerText)\n",
    "FROM Answer\n",
    "WHERE QuestionID IN (93, 118)\n",
    ";\n",
    "\"\"\"\n",
    "\n",
    "x = pd.read_sql(xquery, conn)\n",
    "x"
   ]
  },
  {
   "cell_type": "code",
   "execution_count": null,
   "metadata": {},
   "outputs": [],
   "source": [
    "#add your code below\n",
    "work_remotely_query = \"\"\"\n",
    "SELECT AnswerText AS answer, COUNT(AnswerText) AS count\n",
    "FROM Answer\n",
    "WHERE QuestionID = 118\n",
    "GROUP BY AnswerText\n",
    ";\n",
    "\"\"\"\n",
    "\n",
    "work_remotely_result = pd.read_sql(work_remotely_query, conn)\n",
    "work_remotely_result"
   ]
  },
  {
   "cell_type": "markdown",
   "metadata": {},
   "source": [
    "**9. Refer to the `Answer` table. Write a SQL query that returns the given age of 2016 survey participants as well as the count of participants for each age. Call the age column `participant_age` and the count column `number_of_participants`**\n",
    "\n",
    "```"
   ]
  },
  {
   "cell_type": "code",
   "execution_count": null,
   "metadata": {},
   "outputs": [],
   "source": [
    "xquery = \"\"\"\n",
    "SELECT *\n",
    "FROM Question\n",
    "WHERE questiontext LIKE '%age%'\n",
    ";\n",
    "\"\"\"\n",
    "\n",
    "x = pd.read_sql(xquery, conn)\n",
    "x"
   ]
  },
  {
   "cell_type": "code",
   "execution_count": null,
   "metadata": {},
   "outputs": [],
   "source": [
    "#add your code below\n",
    "age_freq_query = \"\"\"\n",
    "SELECT DISTINCT(AnswerText) as participant_age, COUNT(AnswerText) AS number_of_participants\n",
    "FROM Answer\n",
    "WHERE SurveyID = 2016 AND QuestionID = 1\n",
    "GROUP BY participant_age\n",
    ";\n",
    "\"\"\"\n",
    "\n",
    "age_freq_result = pd.read_sql(age_freq_query, conn)\n",
    "age_freq_result"
   ]
  },
  {
   "cell_type": "markdown",
   "metadata": {},
   "source": [
    "**10. This question refers to the query you wrote in Question 6. Now let's make Question 6 a little bit more complicated and order the year in descending order. Call the survey year column `year` and the count column `survey_answers`**\n",
    "\n",
    "```"
   ]
  },
  {
   "cell_type": "code",
   "execution_count": null,
   "metadata": {},
   "outputs": [],
   "source": [
    "#add your code below\n",
    "answer_per_survey_advanced_query = \"\"\"\n",
    "SELECT SurveyID AS year, COUNT(DISTINCT(QuestionID)) as survey_answers\n",
    "FROM Answer\n",
    "GROUP BY SurveyID\n",
    "ORDER BY survey_answers DESC, year DESC\n",
    ";\n",
    "\"\"\"\n",
    "\n",
    "answer_per_survey_advanced_result = pd.read_sql(answer_per_survey_advanced_query, conn)\n",
    "answer_per_survey_advanced_result"
   ]
  }
 ],
 "metadata": {
  "kernelspec": {
   "display_name": "Python 3 (ipykernel)",
   "language": "python",
   "name": "python3"
  },
  "language_info": {
   "codemirror_mode": {
    "name": "ipython",
    "version": 3
   },
   "file_extension": ".py",
   "mimetype": "text/x-python",
   "name": "python",
   "nbconvert_exporter": "python",
   "pygments_lexer": "ipython3",
   "version": "3.11.5"
  }
 },
 "nbformat": 4,
 "nbformat_minor": 2
}
